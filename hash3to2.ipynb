{
 "cells": [
  {
   "cell_type": "code",
   "execution_count": 1,
   "metadata": {},
   "outputs": [],
   "source": [
    "#initialization\n",
    "import matplotlib.pyplot as plt\n",
    "%matplotlib inline\n",
    "import numpy as np\n",
    "\n",
    "# importing Qiskit\n",
    "from qiskit import IBMQ, BasicAer\n",
    "from qiskit.providers.ibmq import least_busy\n",
    "from qiskit import QuantumCircuit, ClassicalRegister, QuantumRegister, execute\n",
    "\n",
    "# import basic plot tools\n",
    "from qiskit.tools.visualization import plot_histogram"
   ]
  },
  {
   "cell_type": "code",
   "execution_count": 2,
   "metadata": {},
   "outputs": [],
   "source": [
    "def n_controlled_Z(circuit, controls, target):\n",
    "    \"\"\"Implement a Z gate with multiple controls\"\"\"\n",
    "    if (len(controls) > 2):\n",
    "        raise ValueError('The controlled Z with more than 2 controls is not implemented')\n",
    "    elif (len(controls) == 1):\n",
    "        circuit.h(target)\n",
    "        circuit.cx(controls[0], target)\n",
    "        circuit.h(target)\n",
    "    elif (len(controls) == 2):\n",
    "        circuit.h(target)\n",
    "        circuit.ccx(controls[0], controls[1], target)\n",
    "        circuit.h(target)"
   ]
  },
  {
   "cell_type": "code",
   "execution_count": 3,
   "metadata": {},
   "outputs": [],
   "source": [
    "def inversion_about_average(circuit, register, n, barriers):\n",
    "    \"\"\"Apply inversion about the average step of Grover's algorithm.\"\"\"\n",
    "    circuit.h(register)\n",
    "    circuit.x(register)\n",
    "    \n",
    "    if barriers:\n",
    "        circuit.barrier()\n",
    "    \n",
    "    n_controlled_Z(circuit, [register[j] for j in range(n-1)], register[n-1])\n",
    "    \n",
    "    if barriers:\n",
    "        circuit.barrier()\n",
    "    \n",
    "    circuit.x(register)\n",
    "    circuit.h(register)"
   ]
  },
  {
   "cell_type": "code",
   "execution_count": 4,
   "metadata": {},
   "outputs": [],
   "source": [
    "def phase_oracle(circuit, qindex, qr):\n",
    "    circuit.cx(qindex[1],qr[0])\n",
    "    circuit.cx(qindex[2],qr[1])"
   ]
  },
  {
   "cell_type": "code",
   "execution_count": 5,
   "metadata": {},
   "outputs": [],
   "source": [
    "def phase_flipping2(circuit, qindex, qr, qanx, T):\n",
    "    \n",
    "    phase_oracle(groverCircuit, qindex, qr)\n",
    "    \n",
    "    for i in range(T[1] // 2):\n",
    "        circuit.x(qanx[1])\n",
    "    for i in range(T[1] % 2):\n",
    "        circuit.x(qanx[2])\n",
    "        \n",
    "    groverCircuit.barrier()\n",
    "    \n",
    "    circuit.cx(qr[0], qanx[1])\n",
    "    circuit.cx(qr[1], qanx[2])\n",
    "    circuit.barrier()\n",
    "    circuit.cx(qanx[1], qanx[0])\n",
    "    circuit.cx(qanx[2], qanx[0])\n",
    "    circuit.ccx(qanx[1],qanx[2],qanx[0])\n",
    "    circuit.barrier()\n",
    "    circuit.cx(qr[0], qanx[1])\n",
    "    circuit.cx(qr[1], qanx[2])\n",
    "    circuit.x(qanx[0])\n",
    "    \n",
    "    groverCircuit.barrier()\n",
    "    \n",
    "    #print(T[1])\n",
    "    \n",
    "    for i in range(T[1] // 2):\n",
    "        circuit.x(qanx[1])\n",
    "    for i in range(T[1] % 2):\n",
    "        circuit.x(qanx[2])\n",
    "        \n",
    "    phase_oracle(groverCircuit, qindex, qr)"
   ]
  },
  {
   "cell_type": "code",
   "execution_count": 6,
   "metadata": {},
   "outputs": [],
   "source": [
    "def phase_flipping3(circuit, qindex, qanx, T):\n",
    "    \n",
    "    phase_oracle(groverCircuit, qindex, qr)\n",
    "        \n",
    "    for i in range((T[0] // 4) % 2):\n",
    "        circuit.x(qanx[1])\n",
    "    for i in range((T[0] // 2) % 2):\n",
    "        circuit.x(qanx[2])\n",
    "    for i in range((T[0] // 1) % 2):\n",
    "        circuit.x(qanx[3])\n",
    "    \n",
    "    groverCircuit.barrier()\n",
    "    \n",
    "    circuit.cx(qindex[0], qanx[1])\n",
    "    circuit.cx(qindex[1], qanx[2])\n",
    "    circuit.cx(qindex[2], qanx[3])\n",
    "    circuit.barrier()\n",
    "    circuit.cx(qanx[1], qanx[0])\n",
    "    circuit.cx(qanx[2], qanx[0])\n",
    "    circuit.cx(qanx[3], qanx[0])\n",
    "    circuit.ccx(qanx[1], qanx[2], qanx[0])\n",
    "    circuit.ccx(qanx[2], qanx[3], qanx[0])\n",
    "    circuit.ccx(qanx[3], qanx[1], qanx[0])\n",
    "    circuit.ccx(qanx[1], qanx[2], qanx[4])\n",
    "    circuit.ccx(qanx[3], qanx[4], qanx[0])\n",
    "    circuit.ccx(qanx[1], qanx[2], qanx[4])\n",
    "    circuit.barrier()\n",
    "    circuit.cx(qindex[0], qanx[1])\n",
    "    circuit.cx(qindex[1], qanx[2])\n",
    "    circuit.cx(qindex[2], qanx[3])\n",
    "    circuit.x(qanx[0])\n",
    "    \n",
    "    groverCircuit.barrier()\n",
    "    \n",
    "    for i in range((T[0] // 4) % 2):\n",
    "        circuit.x(qanx[1])\n",
    "    for i in range((T[0] // 2) % 2):\n",
    "        circuit.x(qanx[2])\n",
    "    for i in range((T[0] // 1) % 2):\n",
    "        circuit.x(qanx[3])\n",
    "        \n",
    "    phase_oracle(groverCircuit, qindex, qr)"
   ]
  },
  {
   "cell_type": "code",
   "execution_count": 7,
   "metadata": {},
   "outputs": [
    {
     "name": "stdout",
     "output_type": "stream",
     "text": [
      "[[2 2]\n",
      " [7 3]]\n"
     ]
    }
   ],
   "source": [
    "L = np.array([[2,2],[7,3]])\n",
    "print(L)"
   ]
  },
  {
   "cell_type": "code",
   "execution_count": 8,
   "metadata": {},
   "outputs": [
    {
     "name": "stdout",
     "output_type": "stream",
     "text": [
      "[2 7]\n"
     ]
    }
   ],
   "source": [
    "K = L[:,0]\n",
    "print(K)"
   ]
  },
  {
   "cell_type": "code",
   "execution_count": 18,
   "metadata": {},
   "outputs": [
    {
     "name": "stdout",
     "output_type": "stream",
     "text": [
      "num_loop =  6\n"
     ]
    },
    {
     "data": {
      "text/plain": [
       "<qiskit.circuit.instructionset.InstructionSet at 0x12a20a048>"
      ]
     },
     "execution_count": 18,
     "metadata": {},
     "output_type": "execute_result"
    }
   ],
   "source": [
    "barriers = True\n",
    "\n",
    "m = 3\n",
    "n = 2\n",
    "\n",
    "qindex = QuantumRegister(m)\n",
    "qr = QuantumRegister(n)\n",
    "qanx = QuantumRegister(5)\n",
    "cindex = ClassicalRegister(m)\n",
    "cr = ClassicalRegister(n)\n",
    "\n",
    "groverCircuit = QuantumCircuit(qindex, qr, qanx, cindex, cr)\n",
    "groverCircuit.h(qindex)\n",
    "\n",
    "groverCircuit.x(qanx[0])\n",
    "groverCircuit.h(qanx[0])\n",
    "\n",
    "groverCircuit.barrier()\n",
    "\n",
    "#num_loop = int(np.ceil(np.cbrt(2 ** m)))\n",
    "num_loop = int(np.cbrt(2 ** m))\n",
    "num_loop = 6\n",
    "print(\"num_loop = \", num_loop)\n",
    "\n",
    "#phase_oracle(groverCircuit, qindex, qr)\n",
    "\n",
    "\n",
    "for i in range(num_loop):\n",
    "    \n",
    "    if barriers:\n",
    "        groverCircuit.barrier()\n",
    "        \n",
    "    # the first stage of grover\n",
    "    phase_flipping2(groverCircuit, qindex, qr, qanx, L[0,:])\n",
    "    \n",
    "    if barriers:\n",
    "        groverCircuit.barrier()\n",
    "\n",
    "    # the third stage of grover\n",
    "    phase_flipping3(groverCircuit, qindex, qanx, L[0,:])\n",
    "    \n",
    "    if barriers:\n",
    "        groverCircuit.barrier()\n",
    "    \n",
    "    #the second stage of grover \n",
    "#     phase_flipping2(groverCircuit, qindex, qr, qanx, L[1,:])\n",
    "    \n",
    "    if barriers:\n",
    "        groverCircuit.barrier()\n",
    "    \n",
    "#     phase_flipping3(groverCircuit, qindex, qanx, L[1,:])\n",
    "\n",
    "    if barriers:\n",
    "        groverCircuit.barrier()\n",
    "\n",
    "    groverCircuit.barrier()\n",
    "\n",
    "    inversion_about_average(groverCircuit, qindex, m, barriers)\n",
    "\n",
    "    if barriers:\n",
    "        groverCircuit.barrier()\n",
    "\n",
    "groverCircuit.measure(qindex,cindex)"
   ]
  },
  {
   "cell_type": "code",
   "execution_count": 19,
   "metadata": {},
   "outputs": [],
   "source": [
    "# groverCircuit.draw(output=\"mpl\")"
   ]
  },
  {
   "cell_type": "code",
   "execution_count": null,
   "metadata": {},
   "outputs": [],
   "source": [
    "backend = BasicAer.get_backend('qasm_simulator')\n",
    "shots = 8192\n",
    "results = execute(groverCircuit, backend=backend, shots=shots).result()\n",
    "answer = results.get_counts()\n",
    "plot_histogram(answer)"
   ]
  },
  {
   "cell_type": "code",
   "execution_count": 12,
   "metadata": {},
   "outputs": [
    {
     "name": "stdout",
     "output_type": "stream",
     "text": [
      "{'00 000': 1, '00 100': 1, '00 101': 1, '00 110': 8189}\n"
     ]
    }
   ],
   "source": [
    "print(answer)"
   ]
  },
  {
   "cell_type": "code",
   "execution_count": 13,
   "metadata": {
    "scrolled": true
   },
   "outputs": [
    {
     "name": "stdout",
     "output_type": "stream",
     "text": [
      "2\n"
     ]
    }
   ],
   "source": [
    "index = np.argmax(answer)\n",
    "index = 2\n",
    "print(index)"
   ]
  },
  {
   "cell_type": "code",
   "execution_count": 14,
   "metadata": {},
   "outputs": [
    {
     "name": "stdout",
     "output_type": "stream",
     "text": [
      "ans =  [2. 2.]\n"
     ]
    }
   ],
   "source": [
    "ans = np.zeros(2)\n",
    "flag = False\n",
    "for [i, j] in L:\n",
    "    #print([i,j])\n",
    "    #print(index % 4)\n",
    "    if j == index % 4:\n",
    "        flag = True\n",
    "        ans[0] = i\n",
    "        ans[1] = index\n",
    "        break\n",
    "\n",
    "if flag: \n",
    "    print(\"ans = \", ans)\n",
    "else :\n",
    "    print(\"failed\")"
   ]
  },
  {
   "cell_type": "code",
   "execution_count": null,
   "metadata": {},
   "outputs": [],
   "source": []
  }
 ],
 "metadata": {
  "kernelspec": {
   "display_name": "Python 3",
   "language": "python",
   "name": "python3"
  },
  "language_info": {
   "codemirror_mode": {
    "name": "ipython",
    "version": 3
   },
   "file_extension": ".py",
   "mimetype": "text/x-python",
   "name": "python",
   "nbconvert_exporter": "python",
   "pygments_lexer": "ipython3",
   "version": "3.6.9"
  }
 },
 "nbformat": 4,
 "nbformat_minor": 2
}
